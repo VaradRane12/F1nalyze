{
 "cells": [
  {
   "cell_type": "code",
   "execution_count": null,
   "id": "ec5b93c5-13ec-46e2-8fa4-4c98dd177cb6",
   "metadata": {},
   "outputs": [],
   "source": []
  }
 ],
 "metadata": {
  "kernelspec": {
   "display_name": "",
   "name": ""
  },
  "language_info": {
   "name": ""
  }
 },
 "nbformat": 4,
 "nbformat_minor": 5
}
